{
  "cells": [
    {
      "cell_type": "markdown",
      "metadata": {
        "id": "daabDZ44OSF2"
      },
      "source": [
        "# Preparing the dataset for hippocampus segmentation\n",
        "\n"
      ]
    },
    {
      "cell_type": "code",
      "execution_count": null,
      "metadata": {
        "id": "Np1tIdkgOSF7"
      },
      "outputs": [],
      "source": [
        "import nibabel as nib\n",
        "import matplotlib.pyplot as plt\n",
        "import numpy as np\n",
        "import os\n",
        "import shutil\n"
      ]
    },
    {
      "cell_type": "markdown",
      "metadata": {
        "id": "AVYuHiQ4OSF9"
      },
      "source": [
        "## Loading NIFTI images using NiBabel\n",
        "\n",
        "NiBabel is a python library for working with neuro-imaging formats (including NIFTI) that we have used in some of the exercises throughout the course. Our volumes and labels are in NIFTI format, so we will use nibabel to load and inspect them.\n",
        "\n",
        "NiBabel documentation could be found here: https://nipy.org/nibabel/"
      ]
    },
    {
      "cell_type": "code",
      "execution_count": null,
      "metadata": {
        "id": "3sxfya0OOSF-"
      },
      "outputs": [],
      "source": [
        "# Load an image and a segmentation mask into variables called image and label\n",
        "\n",
        "names = sorted(os.listdir('/data/TrainingSet/labels'))\n",
        "images = [nib.load('/data/TrainingSet/images/'+name) for name in names]\n",
        "labels = [nib.load('/data/TrainingSet/labels/'+name) for name in names]"
      ]
    },
    {
      "cell_type": "code",
      "execution_count": null,
      "metadata": {
        "id": "xLrTXGvgOSF-",
        "outputId": "d8bbc0d8-97c8-4676-d67a-6a8caa8bff22"
      },
      "outputs": [
        {
          "name": "stdout",
          "output_type": "stream",
          "text": [
            "(512, 512, 241) hippocampus_010.nii.gz 6\n",
            "(512, 512, 31) hippocampus_281.nii.gz 179\n"
          ]
        }
      ],
      "source": [
        "for i, img in enumerate(images):\n",
        "    if img.shape[0]>100:\n",
        "        print(img.shape, names[i], i)\n",
        "    \n",
        "# hippocampus_010.nii.gz, hippocampus_281.nii.gz are outlers"
      ]
    },
    {
      "cell_type": "code",
      "execution_count": null,
      "metadata": {
        "id": "Jd44tOTpOSGA"
      },
      "outputs": [],
      "source": [
        "# Nibabel can present your image data as a Numpy array by calling the method get_fdata()\n",
        "# The array will contain a multi-dimensional Numpy array with numerical values representing voxel intensities. \n",
        "# In our case, images and labels are 3-dimensional, so get_fdata will return a 3-dimensional array. You can verify this\n",
        "# by accessing the .shape attribute. What are the dimensions of the input arrays?\n"
      ]
    },
    {
      "cell_type": "code",
      "execution_count": null,
      "metadata": {
        "id": "e2JiUg5iOSGA",
        "outputId": "cdc897c6-08f7-4465-d2d3-bfc3ee604bd3"
      },
      "outputs": [
        {
          "data": {
            "text/plain": [
              "<matplotlib.image.AxesImage at 0x7feefdad57c0>"
            ]
          },
          "execution_count": 3,
          "metadata": {},
          "output_type": "execute_result"
        },
        {
          "data": {
            "image/png": "[encoded data removed]",
            "text/plain": [
              "<Figure size 432x288 with 1 Axes>"
            ]
          },
          "metadata": {
            "needs_background": "light"
          },
          "output_type": "display_data"
        }
      ],
      "source": [
        "img1_sl1 = images[0].get_fdata()[:,:,0]\n",
        "plt.imshow(img1_sl1, cmap='gray')"
      ]
    },
    {
      "cell_type": "code",
      "execution_count": null,
      "metadata": {
        "id": "jW7_-MrPOSGB",
        "outputId": "1d79e810-d9ab-4856-cfa7-d37e5452e916"
      },
      "outputs": [
        {
          "data": {
            "text/plain": [
              "<matplotlib.image.AxesImage at 0x7feefdfe7fa0>"
            ]
          },
          "execution_count": 4,
          "metadata": {},
          "output_type": "execute_result"
        },
        {
          "data": {
            "image/png": "[encoded data removed]",
            "text/plain": [
              "<Figure size 432x288 with 1 Axes>"
            ]
          },
          "metadata": {
            "needs_background": "light"
          },
          "output_type": "display_data"
        }
      ],
      "source": [
        "img1_sl2 = images[0].get_fdata()[:,0,:]\n",
        "plt.imshow(img1_sl2, cmap='gray')"
      ]
    },
    {
      "cell_type": "code",
      "execution_count": null,
      "metadata": {
        "id": "XKGYz3ZmOSGB",
        "outputId": "0725dd12-2573-48da-960c-b87d15ee091d"
      },
      "outputs": [
        {
          "data": {
            "text/plain": [
              "<matplotlib.image.AxesImage at 0x7feefddce6a0>"
            ]
          },
          "execution_count": 5,
          "metadata": {},
          "output_type": "execute_result"
        },
        {
          "data": {
            "image/png": "[encoded data removed]",
            "text/plain": [
              "<Figure size 432x288 with 1 Axes>"
            ]
          },
          "metadata": {
            "needs_background": "light"
          },
          "output_type": "display_data"
        }
      ],
      "source": [
        "img1_sl3 = images[0].get_fdata()[0,:,:]\n",
        "plt.imshow(img1_sl3, cmap='gray')"
      ]
    },
    {
      "cell_type": "markdown",
      "metadata": {
        "id": "QyprmKLdOSGC"
      },
      "source": [
        "## Looking at single image data\n",
        "In this section we will look closer at the NIFTI representation of our volumes. In order to measure the physical volume of hippocampi, we need to understand the relationship between the sizes of our voxels and the physical world."
      ]
    },
    {
      "cell_type": "markdown",
      "metadata": {
        "id": "REzVNDE2OSGD"
      },
      "source": [
        "Further down we will be inspecting .header attribute that provides access to NIFTI metadata. You can use this resource as a reference for various fields: https://brainder.org/2012/09/23/the-nifti-file-format/"
      ]
    },
    {
      "cell_type": "code",
      "execution_count": null,
      "metadata": {
        "id": "fcTWMpmIOSGD",
        "outputId": "348ae2b0-49a9-485f-bf63-5618a9c7e9df"
      },
      "outputs": [
        {
          "data": {
            "text/plain": [
              "array(32, dtype=int16)"
            ]
          },
          "execution_count": 9,
          "metadata": {},
          "output_type": "execute_result"
        }
      ],
      "source": [
        "# How many bits per pixel are used?\n",
        "images[0].header['bitpix']"
      ]
    },
    {
      "cell_type": "code",
      "execution_count": null,
      "metadata": {
        "id": "3i_hiyA_OSGE",
        "outputId": "e4ac81fd-3f2c-419b-fa7d-b1afcb4728b6"
      },
      "outputs": [
        {
          "data": {
            "text/plain": [
              "array(10, dtype=uint8)"
            ]
          },
          "execution_count": 11,
          "metadata": {},
          "output_type": "execute_result"
        }
      ],
      "source": [
        "# What are the units of measurement?\n",
        "images[0].header['xyzt_units']"
      ]
    },
    {
      "cell_type": "code",
      "execution_count": null,
      "metadata": {
        "id": "zYCUQzS8OSGE",
        "outputId": "16c92202-9bf8-4c0b-c713-cc057532d9cd"
      },
      "outputs": [
        {
          "data": {
            "text/plain": [
              "array([1., 1., 1., 1., 1., 0., 0., 0.], dtype=float32)"
            ]
          },
          "execution_count": 13,
          "metadata": {},
          "output_type": "execute_result"
        }
      ],
      "source": [
        "#  Do we have a regular grid? What are grid spacings?\n",
        "images[0].header['pixdim']"
      ]
    },
    {
      "cell_type": "code",
      "execution_count": null,
      "metadata": {
        "id": "kWjCMAfMOSGF"
      },
      "outputs": [],
      "source": [
        "# What dimensions represent axial, sagittal, and coronal slices? \n",
        "# first is saggital\n",
        "# second is coronal\n",
        "# third is axial\n",
        "# Based on the results from 3D slicer"
      ]
    },
    {
      "cell_type": "code",
      "execution_count": null,
      "metadata": {
        "id": "6cd3SxJqOSGM"
      },
      "outputs": [],
      "source": [
        "volumes = [np.sum(label.get_fdata()>0) for label in labels]\n"
      ]
    },
    {
      "cell_type": "markdown",
      "metadata": {
        "id": "4DpoCSskOSGN"
      },
      "source": [
        "## Plotting some charts"
      ]
    },
    {
      "cell_type": "code",
      "execution_count": null,
      "metadata": {
        "scrolled": false,
        "id": "7aGDGfYqOSGN",
        "outputId": "8108ea89-b3c1-4ee6-8260-7c73ac659701"
      },
      "outputs": [
        {
          "data": {
            "text/plain": [
              "(array([35., 54., 79., 68., 22.,  3.,  0.,  0.,  0.,  0.,  0.,  0.,  0.,\n",
              "         0.,  0.,  0.,  0.,  0.,  0.,  0.,  0.,  0.,  0.,  0.,  0.,  0.,\n",
              "         0.,  0.,  0.,  0.,  0.,  0.,  0.,  0.,  0.,  0.,  0.,  0.,  0.,\n",
              "         0.,  0.,  0.,  0.,  0.,  0.,  0.,  0.,  0.,  0.,  1.]),\n",
              " array([ 2382. ,  2748.4,  3114.8,  3481.2,  3847.6,  4214. ,  4580.4,\n",
              "         4946.8,  5313.2,  5679.6,  6046. ,  6412.4,  6778.8,  7145.2,\n",
              "         7511.6,  7878. ,  8244.4,  8610.8,  8977.2,  9343.6,  9710. ,\n",
              "        10076.4, 10442.8, 10809.2, 11175.6, 11542. , 11908.4, 12274.8,\n",
              "        12641.2, 13007.6, 13374. , 13740.4, 14106.8, 14473.2, 14839.6,\n",
              "        15206. , 15572.4, 15938.8, 16305.2, 16671.6, 17038. , 17404.4,\n",
              "        17770.8, 18137.2, 18503.6, 18870. , 19236.4, 19602.8, 19969.2,\n",
              "        20335.6, 20702. ]),\n",
              " <a list of 50 Patch objects>)"
            ]
          },
          "execution_count": 21,
          "metadata": {},
          "output_type": "execute_result"
        },
        {
          "data": {
            "image/png": "[encoded data removed]",
            "text/plain": [
              "<Figure size 432x288 with 1 Axes>"
            ]
          },
          "metadata": {
            "needs_background": "light"
          },
          "output_type": "display_data"
        }
      ],
      "source": [
        "plt.hist(volumes, bins=50)"
      ]
    },
    {
      "cell_type": "markdown",
      "metadata": {
        "id": "p9D6QMWbOSGN"
      },
      "source": [
        "<img src=\"img/nomogram_fem_right.svg\" width=400 align=left>"
      ]
    },
    {
      "cell_type": "code",
      "execution_count": null,
      "metadata": {
        "id": "IkGiDyJBOSGN"
      },
      "outputs": [],
      "source": [
        "outliers = np.argwhere(np.array(volumes) > 4500).ravel().tolist()"
      ]
    },
    {
      "cell_type": "code",
      "execution_count": null,
      "metadata": {
        "id": "4gSLREh5OSGO"
      },
      "outputs": [],
      "source": [
        "for i in outliers:\n",
        "    names.pop(i)"
      ]
    },
    {
      "cell_type": "code",
      "execution_count": null,
      "metadata": {
        "id": "ti6A6biCOSGP",
        "outputId": "75d268ee-64cf-4fb4-acab-c942feaaef12"
      },
      "outputs": [
        {
          "data": {
            "text/plain": [
              "'/data/TrainingSet/images/hippocampus_001.nii.gz'"
            ]
          },
          "execution_count": 27,
          "metadata": {},
          "output_type": "execute_result"
        }
      ],
      "source": [
        "os.path.join('/data/TrainingSet/images/', names[0])"
      ]
    },
    {
      "cell_type": "code",
      "execution_count": null,
      "metadata": {
        "id": "HKwq-mLLOSGP"
      },
      "outputs": [],
      "source": [
        "for img_name in names:\n",
        "    shutil.copy(os.path.join('/data/TrainingSet/images/', img_name), \"out/images/\")\n",
        "    shutil.copy(os.path.join('/data/TrainingSet/labels/', img_name), \"out/labels/\")    "
      ]
    }
  ],
  "metadata": {
    "kernelspec": {
      "display_name": "Python 3",
      "language": "python",
      "name": "python3"
    },
    "language_info": {
      "codemirror_mode": {
        "name": "ipython",
        "version": 3
      },
      "file_extension": ".py",
      "mimetype": "text/x-python",
      "name": "python",
      "nbconvert_exporter": "python",
      "pygments_lexer": "ipython3",
      "version": "3.8.2"
    },
    "colab": {
      "provenance": []
    }
  },
  "nbformat": 4,
  "nbformat_minor": 0
}